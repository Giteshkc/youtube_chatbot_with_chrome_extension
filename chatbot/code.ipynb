{
 "cells": [
  {
   "cell_type": "code",
   "execution_count": 2,
   "id": "79a725fb",
   "metadata": {},
   "outputs": [],
   "source": [
    "from langchain_openai import ChatOpenAI,OpenAIEmbeddings\n",
    "from langchain_core.prompts import PromptTemplate\n",
    "from langchain_core.output_parsers import StrOutputParser\n",
    "from langchain_community.vectorstores import Chroma\n",
    "from youtube_transcript_api import YouTubeTranscriptApi,TranscriptsDisabled\n",
    "from langchain.text_splitter import RecursiveCharacterTextSplitter\n",
    "from langchain_core.runnables import RunnableLambda,RunnableParallel,RunnablePassthrough\n",
    "\n"
   ]
  },
  {
   "cell_type": "code",
   "execution_count": 3,
   "id": "d57ed135",
   "metadata": {},
   "outputs": [],
   "source": [
    "video_id=\"iv-5mZ_9CPY\"\n",
    "ytt_api=YouTubeTranscriptApi()\n",
    "try:\n",
    "    transcript_list=ytt_api.fetch(video_id,languages=[\"en\",\"hi\"])\n",
    "    transcript=\" \".join(chunk.text for chunk in transcript_list)\n",
    "except TranscriptsDisabled:\n",
    "    print(\"Not found\")\n",
    "    "
   ]
  },
  {
   "cell_type": "code",
   "execution_count": 7,
   "id": "5921e488",
   "metadata": {},
   "outputs": [
    {
     "data": {
      "text/plain": [
       "37476"
      ]
     },
     "execution_count": 7,
     "metadata": {},
     "output_type": "execute_result"
    }
   ],
   "source": [
    "len(transcript)"
   ]
  },
  {
   "cell_type": "code",
   "execution_count": 8,
   "id": "b97a191f",
   "metadata": {},
   "outputs": [],
   "source": [
    "splitter=RecursiveCharacterTextSplitter(chunk_size=1000,\n",
    "                               chunk_overlap=400)"
   ]
  },
  {
   "cell_type": "code",
   "execution_count": 9,
   "id": "3fe516c0",
   "metadata": {},
   "outputs": [],
   "source": [
    "chunk=splitter.create_documents([transcript])"
   ]
  },
  {
   "cell_type": "code",
   "execution_count": 189,
   "id": "84fbc4b2",
   "metadata": {},
   "outputs": [
    {
     "data": {
      "text/plain": [
       "62"
      ]
     },
     "execution_count": 189,
     "metadata": {},
     "output_type": "execute_result"
    }
   ],
   "source": [
    "len(chunk)"
   ]
  },
  {
   "cell_type": "code",
   "execution_count": 10,
   "id": "ddc26e6e",
   "metadata": {},
   "outputs": [],
   "source": [
    "embedding=OpenAIEmbeddings()\n",
    "vector_store=Chroma.from_documents(chunk,\n",
    "    embedding=embedding,\n",
    "    )"
   ]
  },
  {
   "cell_type": "code",
   "execution_count": 11,
   "id": "a451db4d",
   "metadata": {},
   "outputs": [],
   "source": [
    "retriever=vector_store.as_retriever(search_type=\"mmr\",\n",
    "                                    search_kwargs={\"k\":3})"
   ]
  },
  {
   "cell_type": "code",
   "execution_count": 12,
   "id": "a11d156e",
   "metadata": {},
   "outputs": [],
   "source": [
    "prompt=PromptTemplate(\n",
    "    template=\"\"\"If the context is present in the given text then only give discuss about the question. \n",
    "    If the context is not present then just Say I dont know \n",
    "    {context}\n",
    "    \n",
    "    {question}\n",
    "    \"\"\",\n",
    "    input_variables=[\"context\",\"question\"]\n",
    ")"
   ]
  },
  {
   "cell_type": "code",
   "execution_count": null,
   "id": "42ed6dbe",
   "metadata": {},
   "outputs": [],
   "source": []
  },
  {
   "cell_type": "code",
   "execution_count": null,
   "id": "5415cb21",
   "metadata": {},
   "outputs": [],
   "source": [
    "\n",
    "    "
   ]
  },
  {
   "cell_type": "code",
   "execution_count": 13,
   "id": "8804d458",
   "metadata": {},
   "outputs": [],
   "source": [
    "llm=ChatOpenAI()\n"
   ]
  },
  {
   "cell_type": "code",
   "execution_count": 14,
   "id": "147c7c33",
   "metadata": {},
   "outputs": [],
   "source": [
    "def formated_doc(docs):\n",
    "    context_text=\"\\n\\n\".join(doc.page_content for doc in docs)\n",
    "    return context_text\n"
   ]
  },
  {
   "cell_type": "code",
   "execution_count": 18,
   "id": "f1c88c21",
   "metadata": {},
   "outputs": [],
   "source": [
    "parallel_chain=RunnableParallel(\n",
    "    {\n",
    "        \"context\": retriever | RunnableLambda(formated_doc), \n",
    "        \"question\":RunnablePassthrough()\n",
    "    }\n",
    ")"
   ]
  },
  {
   "cell_type": "code",
   "execution_count": 15,
   "id": "5dc47dab",
   "metadata": {},
   "outputs": [],
   "source": [
    "prompt1=PromptTemplate(\n",
    "    template= \"If the spelling in the sentence is mistake then correct it\\n {sentence} \\n\",\n",
    "    input_variables=[\"sentence\"]\n",
    ")"
   ]
  },
  {
   "cell_type": "code",
   "execution_count": 16,
   "id": "d855fa52",
   "metadata": {},
   "outputs": [],
   "source": [
    "prompt2=PromptTemplate(\n",
    "    template= \"If the grammar is mistake in the sentence is mistake then correct it\\n {sentence} \\n\",\n",
    "    input_variables=[\"sentence\"]\n",
    ")\n"
   ]
  },
  {
   "cell_type": "code",
   "execution_count": null,
   "id": "ef54731b",
   "metadata": {},
   "outputs": [
    {
     "data": {
      "text/plain": [
       "'Summarize the video.'"
      ]
     },
     "execution_count": 290,
     "metadata": {},
     "output_type": "execute_result"
    }
   ],
   "source": []
  },
  {
   "cell_type": "code",
   "execution_count": null,
   "id": "774d698d",
   "metadata": {},
   "outputs": [],
   "source": []
  },
  {
   "cell_type": "code",
   "execution_count": 19,
   "id": "5a7cdd2a",
   "metadata": {},
   "outputs": [
    {
     "data": {
      "text/plain": [
       "'The text discusses the use of diffusion models and negative prompts in video generation using language as input. This new approach allows for steering the diffusion process and creating lifelike images and videos without the need for traditional art skills or animation software. The author also mentions their decision to have guest creators make videos for their channel while they are on paternity leave.'"
      ]
     },
     "execution_count": 19,
     "metadata": {},
     "output_type": "execute_result"
    }
   ],
   "source": [
    "parser=StrOutputParser()\n",
    "chain=prompt1| llm |parser| prompt2|llm| parser|parallel_chain |prompt|llm| parser\n",
    "chain.invoke(\"vido summariz\")"
   ]
  },
  {
   "cell_type": "code",
   "execution_count": null,
   "id": "274f2096",
   "metadata": {},
   "outputs": [],
   "source": []
  }
 ],
 "metadata": {
  "kernelspec": {
   "display_name": ".venv",
   "language": "python",
   "name": "python3"
  },
  "language_info": {
   "codemirror_mode": {
    "name": "ipython",
    "version": 3
   },
   "file_extension": ".py",
   "mimetype": "text/x-python",
   "name": "python",
   "nbconvert_exporter": "python",
   "pygments_lexer": "ipython3",
   "version": "3.12.4"
  }
 },
 "nbformat": 4,
 "nbformat_minor": 5
}
